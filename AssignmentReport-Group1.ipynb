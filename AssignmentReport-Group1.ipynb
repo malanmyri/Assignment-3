{
 "cells": [
  {
   "attachments": {},
   "cell_type": "markdown",
   "metadata": {},
   "source": [
    "# Assignment 1"
   ]
  },
  {
   "attachments": {},
   "cell_type": "markdown",
   "metadata": {},
   "source": [
    "**Task 2**\n",
    "\n",
    "    ExampleModel(\n",
    "      (feature_extractor): Sequential(\n",
    "        (0): Conv2d(3, 32, kernel_size=(5, 5), stride=(1, 1), padding=(2, 2))\n",
    "        (1): ReLU()\n",
    "        (2): MaxPool2d(kernel_size=2, stride=2, padding=0, dilation=1, ceil_mode=False)\n",
    "        (3): Conv2d(32, 64, kernel_size=(5, 5), stride=(1, 1), padding=(2, 2))\n",
    "        (4): ReLU()\n",
    "        (5): MaxPool2d(kernel_size=2, stride=2, padding=0, dilation=1, ceil_mode=False)\n",
    "        (6): Conv2d(64, 128, kernel_size=(5, 5), stride=(1, 1), padding=(2, 2))\n",
    "        (7): ReLU()\n",
    "        (8): MaxPool2d(kernel_size=2, stride=2, padding=0, dilation=1, ceil_mode=False)\n",
    "      )\n",
    "      (classifier): Sequential(\n",
    "        (0): Linear(in_features=2048, out_features=64, bias=True)\n",
    "        (1): ReLU()\n",
    "        (2): Linear(in_features=64, out_features=10, bias=True)\n",
    "      )\n",
    "    )\n",
    "\n",
    "\n",
    "    Epoch: 0, Batches per seconds: 104.94, Global step:    351, Validation Loss: 1.70, Validation Accuracy: 0.374\n",
    "    Epoch: 0, Batches per seconds: 112.67, Global step:    702, Validation Loss: 1.38, Validation Accuracy: 0.497\n",
    "    Epoch: 1, Batches per seconds: 115.12, Global step:   1053, Validation Loss: 1.32, Validation Accuracy: 0.507\n",
    "    Epoch: 1, Batches per seconds: 116.41, Global step:   1404, Validation Loss: 1.27, Validation Accuracy: 0.552\n",
    "    Epoch: 2, Batches per seconds: 116.81, Global step:   1755, Validation Loss: 1.09, Validation Accuracy: 0.613\n",
    "    Epoch: 2, Batches per seconds: 117.91, Global step:   2106, Validation Loss: 1.01, Validation Accuracy: 0.652\n",
    "    Epoch: 3, Batches per seconds: 117.81, Global step:   2457, Validation Loss: 0.91, Validation Accuracy: 0.682\n",
    "    Epoch: 3, Batches per seconds: 117.67, Global step:   2808, Validation Loss: 1.03, Validation Accuracy: 0.633\n",
    "    Epoch: 4, Batches per seconds: 118.03, Global step:   3159, Validation Loss: 0.88, Validation Accuracy: 0.692\n",
    "    Epoch: 4, Batches per seconds: 118.25, Global step:   3510, Validation Loss: 0.83, Validation Accuracy: 0.709\n",
    "    Epoch: 5, Batches per seconds: 118.29, Global step:   3861, Validation Loss: 0.79, Validation Accuracy: 0.728\n",
    "    Epoch: 5, Batches per seconds: 118.07, Global step:   4212, Validation Loss: 0.83, Validation Accuracy: 0.709\n",
    "    Epoch: 6, Batches per seconds: 118.34, Global step:   4563, Validation Loss: 0.80, Validation Accuracy: 0.731\n",
    "    Epoch: 6, Batches per seconds: 119.43, Global step:   4914, Validation Loss: 0.75, Validation Accuracy: 0.749\n",
    "    Epoch: 7, Batches per seconds: 119.47, Global step:   5265, Validation Loss: 0.80, Validation Accuracy: 0.737\n",
    "    Epoch: 7, Batches per seconds: 119.84, Global step:   5616, Validation Loss: 0.90, Validation Accuracy: 0.723\n",
    "    Epoch: 8, Batches per seconds: 120.05, Global step:   5967, Validation Loss: 0.87, Validation Accuracy: 0.735\n",
    "    Early stop criteria met\n",
    "    Early stopping.\n",
    "\n"
   ]
  },
  {
   "cell_type": "markdown",
   "metadata": {},
   "source": []
  },
  {
   "attachments": {},
   "cell_type": "markdown",
   "metadata": {},
   "source": [
    "**Task 3:**\n",
    "\n",
    "Attempt 1: \n",
    "\n",
    "    - Adam optimizer\n",
    "    - random rotation \n",
    "    - changed kernel from 5x5 to 3x3\n",
    "    - changed the architectur to (conv- batchnorm -relu) * 3 + fully connected layer \n",
    "    - dropout(0.15)\n",
    "    - weight decay in the adam optimizer. \n",
    "\n",
    "    score was: Epoch: 5, Batches per seconds: 66.90, Global step:   3861, Validation Loss: 1.69, Validation Accuracy: 0.336\n",
    "\n",
    "Conclusion: Something is not working"
   ]
  },
  {
   "attachments": {},
   "cell_type": "markdown",
   "metadata": {},
   "source": [
    "Attempt 2: \n",
    "\n",
    "\n",
    "    - Adam optimizer\n",
    "\n",
    "Conclusion: Something is not working"
   ]
  },
  {
   "cell_type": "markdown",
   "metadata": {},
   "source": []
  }
 ],
 "metadata": {
  "kernelspec": {
   "display_name": "Python 3",
   "language": "python",
   "name": "python3"
  },
  "language_info": {
   "codemirror_mode": {
    "name": "ipython",
    "version": 3
   },
   "file_extension": ".py",
   "mimetype": "text/x-python",
   "name": "python",
   "nbconvert_exporter": "python",
   "pygments_lexer": "ipython3",
   "version": "3.8.10 (default, Nov 14 2022, 12:59:47) \n[GCC 9.4.0]"
  },
  "vscode": {
   "interpreter": {
    "hash": "767d51c1340bd893661ea55ea3124f6de3c7a262a8b4abca0554b478b1e2ff90"
   }
  }
 },
 "nbformat": 4,
 "nbformat_minor": 4
}

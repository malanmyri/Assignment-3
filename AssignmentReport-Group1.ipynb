{
 "cells": [
  {
   "attachments": {},
   "cell_type": "markdown",
   "metadata": {},
   "source": [
    "# Assignment 1"
   ]
  },
  {
   "attachments": {},
   "cell_type": "markdown",
   "metadata": {},
   "source": [
    "**Task 2**\n",
    "\n",
    "[3pts] (report) Report your final training, validation and test accuracy. Calculate this over the entire train/val/test datasets.\n"
   ]
  },
  {
   "attachments": {},
   "cell_type": "markdown",
   "metadata": {},
   "source": [
    "**Task 3:**\n",
    "\n",
    "Report your model architecture. Describe the network architecture (similar to Table 1) and include training details such as optimizer, regularization, learning rate, batch size, weight initialization and other required details that a person reading it can closely replicate your results. \n",
    "\n",
    "\n",
    "\n",
    "Layer  | Layer Type | Number of Hidden Units / Number of Filters | Activation Function | Kernel size/stride/padding \n",
    "-------| ---------- | ------------------------------------------ | ------------------- | ------------------\n",
    "1      |  Conv2D    |  32                                        |  ReLu               |  5x5, s = 1, pad = 2\n",
    "1      |  Batch2d   |  -                                         |   -                 |  -\n",
    "1      | MaxPool2D  |  -                                         |   -                 |  -\n",
    "2      |  Conv2D    |  64                                        |  ReLu               |  3x3, s = 1, pad = 1\n",
    "2      |  Batch2d   |  -                                         |   -                 |  -\n",
    "2      | MaxPool2D  |  -                                         |   -                 |  -\n",
    "3      |  Conv2D    |  128                                       |  ReLu               |  3x3, s = 1, pad = 1\n",
    "3      |  Batch2d   |  -                                         |   -                 |  -\n",
    "3      | MaxPool2D  |  -                                         |   -                 |  -\n",
    "-------|------------|--------------------------------------------|---------------------|---------------------------\n",
    "3      | Flatten    |  -                                         |   -                 | None\n",
    "4      | Fully-Connected | 64                                    | ReLu                | None\n",
    "5      | Fully-Connected | 10                                    | Softmax             | None"
   ]
  },
  {
   "cell_type": "code",
   "execution_count": null,
   "metadata": {},
   "outputs": [],
   "source": [
    "\n",
    "Include a table mentioning the final train loss, training accuracy, validation accuracy and test accuracy for the model. \n",
    "\n",
    "Include a plot of the validation accuracy vs the number of training steps for your model. \n",
    "Include a plot of training and validation loss vs the number of training steps for your model. \n",
    "\n",
    "Discuss briefly what methods you found useful, and answer the following questions. \n",
    "\n",
    "Which method did you see the improvement with? \n",
    "Why do you think the network improved with this method? \n",
    "Which method did not work? \n",
    "Why did it not work? \n",
    "For the method/technique you saw the most significant improvement, include a plot of the train and validation loss before/after applying this technique (Similar to what you did in task 3 for assignment 2). Remember to include this in the same graph! \n",
    "\n",
    "Improve your model and reach an accuracy of 80% on the test set within 10 epochs. \n",
    "\n",
    "Include a plot of validation accuracy over training, and report your final test accuracy. \n",
    "\n",
    "For your best model, do you see any signs of overfitting or underfitting?\n"
   ]
  },
  {
   "attachments": {},
   "cell_type": "markdown",
   "metadata": {},
   "source": [
    "\n",
    "Attempt 1: \n",
    "\n",
    "    - Adam optimizer\n",
    "    - random rotation \n",
    "    - changed kernel from 5x5 to 3x3\n",
    "    - changed the architectur to (conv- batchnorm -relu) * 3 + fully connected layer \n",
    "    - dropout(0.15)\n",
    "    - weight decay in the adam optimizer. \n",
    "\n",
    "    score was: Epoch: 5, Batches per seconds: 66.90, Global step:   3861, Validation Loss: 1.69, Validation Accuracy: 0.336\n",
    "\n",
    "Conclusion: Something is not working"
   ]
  },
  {
   "attachments": {},
   "cell_type": "markdown",
   "metadata": {},
   "source": [
    "Attempt 2: \n",
    "\n",
    "\n",
    "    - Adam optimizer\n",
    "\n",
    "Conclusion: Something is not working"
   ]
  },
  {
   "cell_type": "markdown",
   "metadata": {},
   "source": []
  }
 ],
 "metadata": {
  "kernelspec": {
   "display_name": "Python 3",
   "language": "python",
   "name": "python3"
  },
  "language_info": {
   "codemirror_mode": {
    "name": "ipython",
    "version": 3
   },
   "file_extension": ".py",
   "mimetype": "text/x-python",
   "name": "python",
   "nbconvert_exporter": "python",
   "pygments_lexer": "ipython3",
   "version": "3.8.10 (default, Nov 14 2022, 12:59:47) \n[GCC 9.4.0]"
  },
  "vscode": {
   "interpreter": {
    "hash": "767d51c1340bd893661ea55ea3124f6de3c7a262a8b4abca0554b478b1e2ff90"
   }
  }
 },
 "nbformat": 4,
 "nbformat_minor": 4
}
